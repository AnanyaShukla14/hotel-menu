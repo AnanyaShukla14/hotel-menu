{
 "cells": [
  {
   "cell_type": "markdown",
   "id": "c3876f8c-2ce0-4f14-90d9-78447daaf1a4",
   "metadata": {},
   "source": [
    "# menu of resturant "
   ]
  },
  {
   "cell_type": "code",
   "execution_count": null,
   "id": "d523ca06-93ea-4a22-8219-3bfb372e7b72",
   "metadata": {},
   "outputs": [],
   "source": []
  },
  {
   "cell_type": "code",
   "execution_count": 5,
   "id": "f97fb8fa-deac-49b9-b8ae-f05435cd9dee",
   "metadata": {},
   "outputs": [
    {
     "name": "stdout",
     "output_type": "stream",
     "text": [
      "Welcome to PYTHON Restaurant\n",
      "Pizza: Rs40\n",
      "Pasta: Rs50\n",
      "Burger: Rs60\n",
      "Salad: Rs70\n",
      "Coffee: Rs80\n"
     ]
    },
    {
     "name": "stdin",
     "output_type": "stream",
     "text": [
      "HI!, please ente rthe item you want to order: pizza\n"
     ]
    },
    {
     "name": "stdout",
     "output_type": "stream",
     "text": [
      "your item Pizza has been added to your order\n"
     ]
    },
    {
     "name": "stdin",
     "output_type": "stream",
     "text": [
      "Do you want to add another item?(Yes/No no\n"
     ]
    },
    {
     "name": "stdout",
     "output_type": "stream",
     "text": [
      "The total amount of items to pay is 40\n"
     ]
    }
   ],
   "source": [
    "# define the menu of resturant \n",
    "menu = {\"Pizza\":40,\n",
    "       \"Pasta\":50,\n",
    "       \"Burger\":60,\n",
    "       \"Salad\":70,\n",
    "       \"Coffee\":80}\n",
    "print(\"Welcome to PYTHON Restaurant\")\n",
    "print(\"Pizza: Rs40\\nPasta: Rs50\\nBurger: Rs60\\nSalad: Rs70\\nCoffee: Rs80\")\n",
    "\n",
    "order_total = 0\n",
    "\n",
    "item_1= input(\"HI!, please ente rthe item you want to order:\").title()\n",
    "if item_1 in menu:\n",
    "    order_total += menu[item_1]\n",
    "    print(f\"your item {item_1} has been added to your order\")\n",
    "else:\n",
    "    print(f\"We are sorry to inform that Ordered item {item_1} is not available yet...\")\n",
    "\n",
    "another_order = input(\"Do you want to add another item?(Yes/No\").title()\n",
    "if another_order ==\"Yes\":\n",
    "    item_2= input(\"Please Enter the name of second item:\").title()\n",
    "    if item_2 in menu:\n",
    "        order_total += menu[item_2]\n",
    "        print(f\"Item {item_2} has been added to order\")\n",
    "    else:\n",
    "        print(f\"We are sorry to inform that item {item_2} is not available!\")\n",
    "\n",
    "print(f\"The total amount of items to pay is {order_total}\")"
   ]
  },
  {
   "cell_type": "code",
   "execution_count": null,
   "id": "f227519b-d003-468e-b25d-e7382c0424e3",
   "metadata": {},
   "outputs": [],
   "source": []
  }
 ],
 "metadata": {
  "kernelspec": {
   "display_name": "Python 3 (ipykernel)",
   "language": "python",
   "name": "python3"
  },
  "language_info": {
   "codemirror_mode": {
    "name": "ipython",
    "version": 3
   },
   "file_extension": ".py",
   "mimetype": "text/x-python",
   "name": "python",
   "nbconvert_exporter": "python",
   "pygments_lexer": "ipython3",
   "version": "3.11.7"
  }
 },
 "nbformat": 4,
 "nbformat_minor": 5
}
